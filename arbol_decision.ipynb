{
 "cells": [
  {
   "cell_type": "markdown",
   "metadata": {},
   "source": [
    "# ARBOL DE DECISIÓN CON PODA"
   ]
  },
  {
   "cell_type": "markdown",
   "metadata": {},
   "source": [
    "Librerias"
   ]
  },
  {
   "cell_type": "code",
   "execution_count": null,
   "metadata": {},
   "outputs": [],
   "source": [
    "import pandas as pd\n",
    "from sklearn.model_selection import train_test_split, GridSearchCV\n",
    "from sklearn.tree import DecisionTreeClassifier, plot_tree\n",
    "from sklearn.metrics import classification_report, accuracy_score, confusion_matrix, ConfusionMatrixDisplay\n",
    "import matplotlib.pyplot as plt\n",
    "import numpy as np\n",
    "from sklearn.metrics import precision_recall_curve, roc_curve, auc, RocCurveDisplay, PrecisionRecallDisplay"
   ]
  },
  {
   "cell_type": "markdown",
   "metadata": {},
   "source": [
    "Obtención de los datos"
   ]
  },
  {
   "cell_type": "code",
   "execution_count": null,
   "metadata": {},
   "outputs": [],
   "source": [
    "# Cargar el archivo CSV\n",
    "file_path = 'supervisado_final.csv'\n",
    "df = pd.read_csv(file_path, sep=';', decimal='.')\n",
    "\n",
    "# Eliminar la columna ID Usuario y separar las características del objetivo (Conclusion)\n",
    "X = df.drop(columns=[\"ID Usuario\", \"Conclusion\"])\n",
    "y = df[\"Conclusion\"].map({0: 0, 0.5: 1, 1: 2})"
   ]
  },
  {
   "cell_type": "markdown",
   "metadata": {},
   "source": [
    "Divir los datos en train (70%), test (20%) y validación (10%)"
   ]
  },
  {
   "cell_type": "code",
   "execution_count": null,
   "metadata": {},
   "outputs": [],
   "source": [
    "# Dividir en conjunto de entrenamiento (70%), validación (10%) y prueba (20%)\n",
    "X_train_full, X_test, y_train_full, y_test = train_test_split(X, y, test_size=0.2, random_state=42)\n",
    "X_train, X_val, y_train, y_val = train_test_split(X_train_full, y_train_full, test_size=0.125, random_state=42)  # 0.125 x 0.8 = 0.1"
   ]
  },
  {
   "cell_type": "markdown",
   "metadata": {},
   "source": [
    "Definir el árbol de decisión"
   ]
  },
  {
   "cell_type": "code",
   "execution_count": null,
   "metadata": {},
   "outputs": [],
   "source": [
    "# Definir el Árbol de Decisión con una búsqueda extensa de hiperparámetros\n",
    "clf_tree = DecisionTreeClassifier(random_state=42)"
   ]
  },
  {
   "cell_type": "markdown",
   "metadata": {},
   "source": [
    "Campo de busqueda de híperparametros, se ha descomentado la mejor opción"
   ]
  },
  {
   "cell_type": "code",
   "execution_count": null,
   "metadata": {},
   "outputs": [],
   "source": [
    "# Parámetros para la búsqueda en malla\n",
    "# param_grid_tree = {\n",
    "#     'criterion': ['gini', 'entropy'],                  # Comparar criterios de evaluación\n",
    "#     'max_depth': [None, 5, 10, 15, 20, 25, 30, 35],        # Aumentar el rango de la profundidad máxima\n",
    "#     'min_samples_split': [2, 5, 10, 15, 20, 25, 30],       # Más valores para las muestras mínimas al dividir\n",
    "#     'min_samples_leaf': [1, 2, 5, 10, 15, 20],         # Variar las muestras mínimas en una hoja\n",
    "#     'ccp_alpha': [0.0, 0.0001, 0.001, 0.01, 0.1, 0.2]  # Extender el rango de poda de coste-complejidad\n",
    "# }\n",
    "\n",
    "param_grid_tree = {\n",
    "    'criterion': ['entropy'],                  # Comparar criterios de evaluación\n",
    "    'max_depth': [None],        # Aumentar el rango de la profundidad máxima\n",
    "    'min_samples_split': [2],       # Más valores para las muestras mínimas al dividir\n",
    "    'min_samples_leaf': [10],         # Variar las muestras mínimas en una hoja\n",
    "    'ccp_alpha': [0.0]  # Extender el rango de poda de coste-complejidad\n",
    "}"
   ]
  },
  {
   "cell_type": "markdown",
   "metadata": {},
   "source": [
    "Busqueda en malla con el conjunto de validación con GridSearch"
   ]
  },
  {
   "cell_type": "code",
   "execution_count": null,
   "metadata": {},
   "outputs": [],
   "source": [
    "# Búsqueda en malla con el conjunto de validación\n",
    "grid_search_tree = GridSearchCV(clf_tree, param_grid_tree, cv=5, scoring='accuracy')\n",
    "grid_search_tree.fit(X_train, y_train)"
   ]
  },
  {
   "cell_type": "markdown",
   "metadata": {},
   "source": [
    "Seleccionar la mejor opción y evaluar el modelo"
   ]
  },
  {
   "cell_type": "code",
   "execution_count": null,
   "metadata": {},
   "outputs": [],
   "source": [
    "# Seleccionar el mejor Árbol de Decisión\n",
    "tree_best = grid_search_tree.best_estimator_\n",
    "\n",
    "# Evaluar el mejor modelo en el conjunto de validación\n",
    "y_val_pred = tree_best.predict(X_val)\n",
    "val_accuracy = accuracy_score(y_val, y_val_pred)\n",
    "val_classification = classification_report(y_val, y_val_pred)\n",
    "\n",
    "# Mostrar resultados del mejor Árbol de Decisión en el conjunto de validación\n",
    "print(f\"Mejor modelo Árbol de Decisión: {tree_best}\")\n",
    "# Imprimir cada parámetro por separado\n",
    "print(f\"Mejor criterio: {grid_search_tree.best_params_['criterion']}\")\n",
    "print(f\"Mejor max_depth: {grid_search_tree.best_params_['max_depth']}\")\n",
    "print(f\"Mejor min_samples_split: {grid_search_tree.best_params_['min_samples_split']}\")\n",
    "print(f\"Mejor min_samples_leaf: {grid_search_tree.best_params_['min_samples_leaf']}\")\n",
    "print(f\"Mejor ccp_alpha: {grid_search_tree.best_params_['ccp_alpha']}\")\n",
    "\n",
    "\n",
    "# Evaluar el modelo en el conjunto de prueba\n",
    "y_test_pred = tree_best.predict(X_test)\n",
    "test_accuracy = accuracy_score(y_test, y_test_pred)\n",
    "test_classification = classification_report(y_test, y_test_pred)\n",
    "\n",
    "# Mostrar resultados del mejor Árbol de Decisión en el conjunto de prueba\n",
    "print(f\"Precisión en Prueba Arbol: {test_accuracy}\")\n",
    "print(\"Reporte de clasificación en Prueba:\")\n",
    "print(test_classification)"
   ]
  },
  {
   "cell_type": "markdown",
   "metadata": {},
   "source": [
    "Visualizar el árbol de decisión seleccionado"
   ]
  },
  {
   "cell_type": "code",
   "execution_count": null,
   "metadata": {},
   "outputs": [],
   "source": [
    "# Visualizar el mejor Árbol de Decisión\n",
    "plt.figure(figsize=(20, 10))\n",
    "plot_tree(tree_best, feature_names=X.columns.tolist(), class_names=[\"0\", \"0.5\", \"1\"], filled=True, rounded=True)\n",
    "plt.title(\"Mejor Árbol de Decisión\")\n",
    "plt.show()"
   ]
  },
  {
   "cell_type": "markdown",
   "metadata": {},
   "source": [
    "Visualización de la importancia de las características en consola y en diagrama de barras"
   ]
  },
  {
   "cell_type": "code",
   "execution_count": null,
   "metadata": {},
   "outputs": [],
   "source": [
    "# Importancia de las características\n",
    "importances = tree_best.feature_importances_\n",
    "sorted_indices = np.argsort(importances)[::-1]  # Ordenar de mayor a menor importancia\n",
    "\n",
    "# Imprimir las características principales ordenadas por importancia\n",
    "print(\"\\nCaracterísticas principales ordenadas por importancia:\")\n",
    "for index in sorted_indices:\n",
    "    print(f\"{X.columns[index]}: {importances[index]:.4f}\")\n",
    "\n",
    "# Gráfico de la importancia de las características\n",
    "plt.figure(figsize=(12, 6))\n",
    "plt.barh(X.columns[sorted_indices], importances[sorted_indices])\n",
    "plt.xlabel('Importancia')\n",
    "plt.ylabel('Características')\n",
    "plt.title('Importancia de las características - Árbol de Decisión')\n",
    "plt.show()"
   ]
  },
  {
   "cell_type": "markdown",
   "metadata": {},
   "source": [
    "Matriz de confusión para evaluar el rendimiento con los datos de test"
   ]
  },
  {
   "cell_type": "code",
   "execution_count": null,
   "metadata": {},
   "outputs": [],
   "source": [
    "# Mostrar la Matriz de Confusión para evaluar el rendimiento del modelo en el conjunto de prueba\n",
    "conf_matrix = confusion_matrix(y_test, y_test_pred)\n",
    "disp = ConfusionMatrixDisplay(conf_matrix, display_labels=[\"0 (Bien)\", \"0.5 (Revisar)\", \"1 (Mal)\"])\n",
    "disp.plot(cmap=plt.cm.Blues)\n",
    "plt.title(\"Matriz de Confusión - Árbol de Decisión\")\n",
    "plt.show()"
   ]
  },
  {
   "cell_type": "markdown",
   "metadata": {},
   "source": [
    "Grafica de la curva de complejidad del árbol de decisión (No se analiza en la memoria)"
   ]
  },
  {
   "cell_type": "code",
   "execution_count": null,
   "metadata": {},
   "outputs": [],
   "source": [
    "# Generar árboles con diferentes valores de ccp_alpha\n",
    "path = tree_best.cost_complexity_pruning_path(X_train, y_train)\n",
    "ccp_alphas, impurities = path.ccp_alphas, path.impurities\n",
    "\n",
    "# Entrenar un modelo para cada valor de ccp_alpha\n",
    "trees = []\n",
    "train_scores = []\n",
    "val_scores = []\n",
    "\n",
    "for ccp_alpha in ccp_alphas:\n",
    "    clf = DecisionTreeClassifier(random_state=42, ccp_alpha=ccp_alpha)\n",
    "    clf.fit(X_train, y_train)\n",
    "    trees.append(clf)\n",
    "    train_scores.append(clf.score(X_train, y_train))\n",
    "    val_scores.append(clf.score(X_val, y_val))\n",
    "\n",
    "# Graficar la curva de complejidad\n",
    "plt.figure(figsize=(10, 6))\n",
    "plt.plot(ccp_alphas, train_scores, marker='o', label='Accuracy en Entrenamiento', drawstyle=\"steps-post\")\n",
    "plt.plot(ccp_alphas, val_scores, marker='o', label='Accuracy en Validación', drawstyle=\"steps-post\")\n",
    "plt.xlabel('Valor de ccp_alpha (Poda de Complejidad)')\n",
    "plt.ylabel('Accuracy')\n",
    "plt.title('Curva de Complejidad del Árbol de Decisión')\n",
    "plt.legend()\n",
    "plt.grid()\n",
    "plt.show()"
   ]
  },
  {
   "cell_type": "markdown",
   "metadata": {},
   "source": [
    "Curva precision-recall"
   ]
  },
  {
   "cell_type": "code",
   "execution_count": null,
   "metadata": {},
   "outputs": [],
   "source": [
    "# Obtener las probabilidades de las predicciones en el conjunto de prueba\n",
    "y_test_proba = tree_best.predict_proba(X_test)\n",
    "\n",
    "# Obtener las etiquetas binarizadas para cada clase\n",
    "n_classes = len(np.unique(y))\n",
    "y_test_bin = np.zeros((y_test.size, n_classes))\n",
    "for i in range(n_classes):\n",
    "    y_test_bin[:, i] = (y_test == i).astype(int)\n",
    "\n",
    "# Graficar todas las curvas Precision-Recall en el mismo gráfico\n",
    "plt.figure(figsize=(10, 8))\n",
    "for i in range(n_classes):\n",
    "    precision, recall, _ = precision_recall_curve(y_test_bin[:, i], y_test_proba[:, i])\n",
    "    plt.plot(recall, precision, lw=2, label=f'Clase {i}')\n",
    "\n",
    "plt.xlabel('Recall')\n",
    "plt.ylabel('Precision')\n",
    "plt.title('Curva Precision-Recall para cada clase')\n",
    "plt.legend(loc='best')\n",
    "plt.grid()\n",
    "plt.show()"
   ]
  },
  {
   "cell_type": "markdown",
   "metadata": {},
   "source": [
    "Curva ROC y AUC"
   ]
  },
  {
   "cell_type": "code",
   "execution_count": null,
   "metadata": {},
   "outputs": [],
   "source": [
    "# Graficar todas las curvas ROC en el mismo gráfico\n",
    "plt.figure(figsize=(10, 8))\n",
    "for i in range(n_classes):\n",
    "    fpr, tpr, _ = roc_curve(y_test_bin[:, i], y_test_proba[:, i])\n",
    "    roc_auc = auc(fpr, tpr)\n",
    "    plt.plot(fpr, tpr, lw=2, label=f'Clase {i} (AUC = {roc_auc:.2f})')\n",
    "\n",
    "plt.plot([0, 1], [0, 1], color='navy', lw=2, linestyle='--')\n",
    "plt.xlabel('False Positive Rate')\n",
    "plt.ylabel('True Positive Rate')\n",
    "plt.title('Curva ROC para cada clase')\n",
    "plt.legend(loc='best')\n",
    "plt.grid()\n",
    "plt.show()"
   ]
  },
  {
   "cell_type": "markdown",
   "metadata": {},
   "source": [
    "## Aplicamos SMOTE\n",
    "\n",
    "Se aplica SMOTE para balancear las clases, para más información leer la memoria."
   ]
  },
  {
   "cell_type": "code",
   "execution_count": null,
   "metadata": {},
   "outputs": [],
   "source": [
    "from imblearn.over_sampling import SMOTE"
   ]
  },
  {
   "cell_type": "markdown",
   "metadata": {},
   "source": [
    "Aplicar SMOTE"
   ]
  },
  {
   "cell_type": "code",
   "execution_count": null,
   "metadata": {},
   "outputs": [],
   "source": [
    "# Aplicar SMOTE para balancear las clases en el conjunto de entrenamiento\n",
    "smote = SMOTE(random_state=42)\n",
    "X_train_smote, y_train_smote = smote.fit_resample(X_train, y_train)\n",
    "\n",
    "# Revisar la distribución de clases después de aplicar SMOTE\n",
    "print(\"Distribución de clases después de aplicar SMOTE:\")\n",
    "print(y_train_smote.value_counts())"
   ]
  },
  {
   "cell_type": "markdown",
   "metadata": {},
   "source": [
    "Volver a ajustar el modelo a los nuevos datos sinteticos"
   ]
  },
  {
   "cell_type": "code",
   "execution_count": null,
   "metadata": {},
   "outputs": [],
   "source": [
    "# Volver a ajustar el modelo de Árbol de Decisión con los datos balanceados\n",
    "grid_search_tree.fit(X_train_smote, y_train_smote)"
   ]
  },
  {
   "cell_type": "markdown",
   "metadata": {},
   "source": [
    "Selección del mejor árbol de decisión (solo se usa la misma configuración que el arbol sin SMOTE) y evaluación del mismo"
   ]
  },
  {
   "cell_type": "code",
   "execution_count": null,
   "metadata": {},
   "outputs": [],
   "source": [
    "# Seleccionar el mejor Árbol de Decisión tras el ajuste con SMOTE\n",
    "tree_with_smote = grid_search_tree.best_estimator_\n",
    "y_pred_tree_smote = tree_with_smote.predict(X_test)\n",
    "\n",
    "# Evaluar precisión y mostrar el reporte de clasificación con los datos ajustados\n",
    "accuracy_tree_smote = accuracy_score(y_test, y_pred_tree_smote)\n",
    "classification_tree_smote = classification_report(y_test, y_pred_tree_smote)\n",
    "\n",
    "print(\"\\nMejor modelo Árbol de Decisión tras aplicar SMOTE: \", tree_with_smote)\n",
    "print(f\"Precisión Árbol de Decisión tras aplicar SMOTE: {accuracy_tree_smote:.4f}\")\n",
    "print(\"Reporte de clasificación tras aplicar SMOTE:\")\n",
    "print(classification_tree_smote)"
   ]
  },
  {
   "cell_type": "markdown",
   "metadata": {},
   "source": [
    "Visualizar el árbol con SMOTE"
   ]
  },
  {
   "cell_type": "code",
   "execution_count": null,
   "metadata": {},
   "outputs": [],
   "source": [
    "# Visualizar el mejor Árbol de Decisión con SMOTE\n",
    "plt.figure(figsize=(20, 10))\n",
    "plot_tree(tree_with_smote, feature_names=X.columns.tolist(), class_names=[\"0\", \"0.5\", \"1\"], filled=True, rounded=True)\n",
    "plt.title(\"Mejor Árbol de Decisión con Poda (Con SMOTE)\")\n",
    "plt.show()"
   ]
  },
  {
   "cell_type": "markdown",
   "metadata": {},
   "source": [
    "Matriz de confusión del arbol de decisión entrenado con SMOTE"
   ]
  },
  {
   "cell_type": "code",
   "execution_count": null,
   "metadata": {},
   "outputs": [],
   "source": [
    "# Mostrar la Matriz de Confusión para evaluar el rendimiento del modelo con SMOTE\n",
    "conf_matrix = confusion_matrix(y_test, y_pred_tree_smote)\n",
    "disp = ConfusionMatrixDisplay(conf_matrix, display_labels=[\"0 (Bien)\", \"0.5 (Revisar)\", \"1 (Mal)\"])\n",
    "disp.plot(cmap=plt.cm.Blues)\n",
    "plt.title(\"Matriz de Confusión - Árbol de Decisión con SMOTE\")\n",
    "plt.show()"
   ]
  },
  {
   "cell_type": "markdown",
   "metadata": {},
   "source": [
    "Visualización de las importancias de las caracteristicas por consola y en diagrama de barras para los datos sinteticos"
   ]
  },
  {
   "cell_type": "code",
   "execution_count": null,
   "metadata": {},
   "outputs": [],
   "source": [
    "# Importancia de las características (con SMOTE)\n",
    "importances = tree_with_smote.feature_importances_\n",
    "sorted_indices = np.argsort(importances)[::-1]  # Ordenar de mayor a menor importancia\n",
    "\n",
    "# Imprimir las características principales ordenadas por importancia\n",
    "print(\"\\nCaracterísticas principales ordenadas por importancia (Con SMOTE):\")\n",
    "for index in sorted_indices:\n",
    "    print(f\"{X.columns[index]}: {importances[index]:.4f}\")\n",
    "\n",
    "# Gráfico de la importancia de las características (con SMOTE)\n",
    "plt.figure(figsize=(12, 6))\n",
    "plt.barh(X.columns[sorted_indices], importances[sorted_indices])\n",
    "plt.xlabel('Importancia')\n",
    "plt.ylabel('Características')\n",
    "plt.title('Importancia de las características - Árbol de Decisión con SMOTE')\n",
    "plt.show()"
   ]
  },
  {
   "cell_type": "markdown",
   "metadata": {},
   "source": [
    "Curva ROC y AUC para el arbol entrenado con SMOTE"
   ]
  },
  {
   "cell_type": "code",
   "execution_count": null,
   "metadata": {},
   "outputs": [],
   "source": [
    "# Evaluación con curvas ROC y AUC (con SMOTE)\n",
    "y_prob_smote = tree_with_smote.predict_proba(X_test)\n",
    "fpr = {}\n",
    "tpr = {}\n",
    "roc_auc = {}\n",
    "\n",
    "# Calculamos ROC y AUC para cada clase\n",
    "for i in range(3):\n",
    "    fpr[i], tpr[i], _ = roc_curve(y_test == i, y_prob_smote[:, i])\n",
    "    roc_auc[i] = auc(fpr[i], tpr[i])\n",
    "\n",
    "# Gráfico de la curva ROC (con SMOTE)\n",
    "plt.figure(figsize=(10, 8))\n",
    "for i in range(3):\n",
    "    plt.plot(fpr[i], tpr[i], label=f'Clase {i} (AUC = {roc_auc[i]:.2f})')\n",
    "plt.plot([0, 1], [0, 1], 'k--', lw=2)\n",
    "plt.xlabel('Tasa de Falsos Positivos (FPR)')\n",
    "plt.ylabel('Tasa de Verdaderos Positivos (TPR)')\n",
    "plt.title('Curvas ROC para cada clase - Árbol de Decisión con SMOTE')\n",
    "plt.legend()\n",
    "plt.show()"
   ]
  },
  {
   "cell_type": "markdown",
   "metadata": {},
   "source": [
    "Visualizar curva de complejidad del árbol de decisión con SMOTE"
   ]
  },
  {
   "cell_type": "code",
   "execution_count": null,
   "metadata": {},
   "outputs": [],
   "source": [
    "# Generar árboles con diferentes valores de ccp_alpha con SMOTE\n",
    "path_smote = tree_with_smote.cost_complexity_pruning_path(X_train_smote, y_train_smote)\n",
    "ccp_alphas_smote, impurities_smote = path_smote.ccp_alphas, path_smote.impurities\n",
    "\n",
    "# Entrenar un modelo para cada valor de ccp_alpha (Con SMOTE)\n",
    "trees_smote = []\n",
    "train_scores_smote = []\n",
    "test_scores_smote = []\n",
    "\n",
    "for ccp_alpha in ccp_alphas_smote:\n",
    "    clf = DecisionTreeClassifier(random_state=42, ccp_alpha=ccp_alpha)\n",
    "    clf.fit(X_train_smote, y_train_smote)\n",
    "    trees_smote.append(clf)\n",
    "    train_scores_smote.append(clf.score(X_train_smote, y_train_smote))\n",
    "    test_scores_smote.append(clf.score(X_test, y_test))\n",
    "\n",
    "# Graficar la curva de complejidad con SMOTE\n",
    "plt.figure(figsize=(10, 6))\n",
    "plt.plot(ccp_alphas_smote, train_scores_smote, marker='o', label='Accuracy en Entrenamiento', drawstyle=\"steps-post\")\n",
    "plt.plot(ccp_alphas_smote, test_scores_smote, marker='o', label='Accuracy en Prueba', drawstyle=\"steps-post\")\n",
    "plt.xlabel('Valor de ccp_alpha (Poda de Complejidad)')\n",
    "plt.ylabel('Accuracy')\n",
    "plt.title('Curva de Complejidad del Árbol de Decisión con SMOTE')\n",
    "plt.legend()\n",
    "plt.grid()\n",
    "plt.show()"
   ]
  }
 ],
 "metadata": {
  "kernelspec": {
   "display_name": "Python 3",
   "language": "python",
   "name": "python3"
  },
  "language_info": {
   "name": "python",
   "version": "3.9.13"
  }
 },
 "nbformat": 4,
 "nbformat_minor": 2
}
